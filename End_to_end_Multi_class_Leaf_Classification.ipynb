{
  "nbformat": 4,
  "nbformat_minor": 0,
  "metadata": {
    "colab": {
      "name": "End-to-end Multi-class Leaf Classification.ipynb",
      "provenance": [],
      "collapsed_sections": [],
      "mount_file_id": "1ysCiXUyD9SvpqizJFN6CRg2bgzjTVMKg",
      "authorship_tag": "ABX9TyMjmk2Yhi5VWU/lGbIDKACY",
      "include_colab_link": true
    },
    "kernelspec": {
      "name": "python3",
      "display_name": "Python 3"
    },
    "accelerator": "GPU"
  },
  "cells": [
    {
      "cell_type": "markdown",
      "metadata": {
        "id": "view-in-github",
        "colab_type": "text"
      },
      "source": [
        "<a href=\"https://colab.research.google.com/github/mrparamvir/End-to-end-multi-class-Leaf-Classification/blob/master/End_to_end_Multi_class_Leaf_Classification.ipynb\" target=\"_parent\"><img src=\"https://colab.research.google.com/assets/colab-badge.svg\" alt=\"Open In Colab\"/></a>"
      ]
    },
    {
      "cell_type": "markdown",
      "metadata": {
        "id": "7bMSCrTStxqF",
        "colab_type": "text"
      },
      "source": [
        "#  🍂🍁 End-to-end Multi-class Leaf Classification\n",
        "This notebook builds an end-to-end multi class image classifier using TensorFlow 2.0 and TensorFlow Hub.\n",
        "\n",
        "## 1. Problem\n",
        "\n",
        "Identifying the species of plants given an image of a leaf. \n",
        "\n",
        "\n",
        "## 2. Data\n",
        "\n",
        "The data we're using is from Kaggle's Leaf Classification competition.\n",
        "\n",
        "https://www.kaggle.com/c/leaf-classification/data\n",
        "\n",
        "## 3. Evaluation\n",
        "\n",
        "The evaluation is a file with prediction probabilities for each leaf species of each test image.\n",
        "\n",
        "https://www.kaggle.com/c/leaf-classification/overview/evaluation\n",
        "\n",
        "## 4. Features\n",
        "\n",
        "Some information about the data:\n",
        "* We're dealing with images (unstructured data) so it's probably best we use deep learning/transfer learning.\n",
        "* There are 99 species of plants (this means there are 99 different classes).\n",
        "* There are around 900+ images in the training set (these images have species).\n",
        "* There are around 500+ images in the test set (these images have no species, because we'll want to predict them).\n"
      ]
    },
    {
      "cell_type": "markdown",
      "metadata": {
        "id": "XKY8RoECtrE9",
        "colab_type": "text"
      },
      "source": [
        ""
      ]
    },
    {
      "cell_type": "code",
      "metadata": {
        "id": "mAWvA7aSvnZ_",
        "colab_type": "code",
        "colab": {}
      },
      "source": [
        "# # Unzip the uploaded data into Google Drive\n",
        "# !unzip \"drive/My Drive/Leaf Classification/leaf-classification.zip\" -d \"drive/My Drive/Leaf Classification\""
      ],
      "execution_count": 1,
      "outputs": []
    },
    {
      "cell_type": "markdown",
      "metadata": {
        "id": "XgkCKGJjwDy1",
        "colab_type": "text"
      },
      "source": [
        "### Get our wrorkspace ready\n",
        "\n",
        "* Import TensorFlow 2.x ✅\n",
        "* Import TensorFlow Hub ✅\n",
        "* Make sure we're using GPU ✅"
      ]
    },
    {
      "cell_type": "code",
      "metadata": {
        "id": "2fUWgO4pv4ne",
        "colab_type": "code",
        "colab": {
          "base_uri": "https://localhost:8080/",
          "height": 70
        },
        "outputId": "cb1b3cf7-d1d8-473b-f770-3a2e63bfd343"
      },
      "source": [
        "# Import necessary tools\n",
        "import tensorflow as tf\n",
        "import tensorflow_hub as hub\n",
        "print(\"TF version:\", tf.__version__)\n",
        "print(\"TF Hub version:\", hub.__version__)\n",
        "\n",
        "# Check for GPU availability\n",
        "print(\"GPU\", \"available (YESSSS!!!) 😀\" if tf.config.list_physical_devices(\"GPU\") else \"not available :(\")"
      ],
      "execution_count": 2,
      "outputs": [
        {
          "output_type": "stream",
          "text": [
            "TF version: 2.2.0\n",
            "TF Hub version: 0.8.0\n",
            "GPU available (YESSSS!!!) 😀\n"
          ],
          "name": "stdout"
        }
      ]
    },
    {
      "cell_type": "markdown",
      "metadata": {
        "id": "b8zrkhxAzAsr",
        "colab_type": "text"
      },
      "source": [
        "## Getting our data ready (turning into Tensors)\n",
        "\n",
        "With all machine learning models, our data has to be in numerical format. So that's what we'll be doing first. Turning our images into Tensors\n",
        "(numerical representations).\n",
        "\n",
        "Let's start by accessing our data checking out the labels."
      ]
    },
    {
      "cell_type": "code",
      "metadata": {
        "id": "lPLpJUD907cZ",
        "colab_type": "code",
        "colab": {}
      },
      "source": [
        "# # Unzip the data in the Leaf Classification\n",
        "# !unzip \"drive/My Drive/Leaf Classification/images.zip\" -d \"drive/My Drive/Leaf Classification\"\n",
        "# !unzip \"drive/My Drive/Leaf Classification/train.csv.zip\" -d \"drive/My Drive/Leaf Classification\"\n",
        "# !unzip \"drive/My Drive/Leaf Classification/test.csv.zip\" -d \"drive/My Drive/Leaf Classification\"\n",
        "# !unzip \"drive/My Drive/Leaf Classification/sample_submission.csv.zip\" -d \"drive/My Drive/Leaf Classification\""
      ],
      "execution_count": 3,
      "outputs": []
    },
    {
      "cell_type": "code",
      "metadata": {
        "id": "N58trGOT0INR",
        "colab_type": "code",
        "colab": {
          "base_uri": "https://localhost:8080/",
          "height": 374
        },
        "outputId": "64e00ea1-7319-4be2-ff27-bf3b50537d7c"
      },
      "source": [
        "# Checking the labels of our data\n",
        "import pandas as pd\n",
        "labels_csv = pd.read_csv(\"drive/My Drive/Leaf Classification/train.csv\")\n",
        "print(labels_csv.describe())\n",
        "print(labels_csv.head())"
      ],
      "execution_count": 4,
      "outputs": [
        {
          "output_type": "stream",
          "text": [
            "                id     margin1     margin2  ...   texture62   texture63   texture64\n",
            "count   990.000000  990.000000  990.000000  ...  990.000000  990.000000  990.000000\n",
            "mean    799.595960    0.017412    0.028539  ...    0.020291    0.008989    0.019420\n",
            "std     452.477568    0.019739    0.038855  ...    0.039040    0.013791    0.022768\n",
            "min       1.000000    0.000000    0.000000  ...    0.000000    0.000000    0.000000\n",
            "25%     415.250000    0.001953    0.001953  ...    0.000000    0.000000    0.000977\n",
            "50%     802.500000    0.009766    0.011719  ...    0.003906    0.002930    0.011719\n",
            "75%    1195.500000    0.025391    0.041016  ...    0.023438    0.012695    0.029297\n",
            "max    1584.000000    0.087891    0.205080  ...    0.375980    0.086914    0.141600\n",
            "\n",
            "[8 rows x 193 columns]\n",
            "   id                species   margin1  ...  texture62  texture63  texture64\n",
            "0   1            Acer_Opalus  0.007812  ...   0.004883   0.000000   0.025391\n",
            "1   2  Pterocarya_Stenoptera  0.005859  ...   0.000977   0.039062   0.022461\n",
            "2   3   Quercus_Hartwissiana  0.005859  ...   0.000000   0.020508   0.002930\n",
            "3   5        Tilia_Tomentosa  0.000000  ...   0.017578   0.000000   0.047852\n",
            "4   6     Quercus_Variabilis  0.005859  ...   0.000000   0.000000   0.031250\n",
            "\n",
            "[5 rows x 194 columns]\n"
          ],
          "name": "stdout"
        }
      ]
    },
    {
      "cell_type": "code",
      "metadata": {
        "id": "jhroR2XO0snb",
        "colab_type": "code",
        "colab": {
          "base_uri": "https://localhost:8080/",
          "height": 246
        },
        "outputId": "7cfe41d9-3fff-48b3-b40e-099ed13ddff7"
      },
      "source": [
        "labels_csv.head()"
      ],
      "execution_count": 5,
      "outputs": [
        {
          "output_type": "execute_result",
          "data": {
            "text/html": [
              "<div>\n",
              "<style scoped>\n",
              "    .dataframe tbody tr th:only-of-type {\n",
              "        vertical-align: middle;\n",
              "    }\n",
              "\n",
              "    .dataframe tbody tr th {\n",
              "        vertical-align: top;\n",
              "    }\n",
              "\n",
              "    .dataframe thead th {\n",
              "        text-align: right;\n",
              "    }\n",
              "</style>\n",
              "<table border=\"1\" class=\"dataframe\">\n",
              "  <thead>\n",
              "    <tr style=\"text-align: right;\">\n",
              "      <th></th>\n",
              "      <th>id</th>\n",
              "      <th>species</th>\n",
              "      <th>margin1</th>\n",
              "      <th>margin2</th>\n",
              "      <th>margin3</th>\n",
              "      <th>margin4</th>\n",
              "      <th>margin5</th>\n",
              "      <th>margin6</th>\n",
              "      <th>margin7</th>\n",
              "      <th>margin8</th>\n",
              "      <th>margin9</th>\n",
              "      <th>margin10</th>\n",
              "      <th>margin11</th>\n",
              "      <th>margin12</th>\n",
              "      <th>margin13</th>\n",
              "      <th>margin14</th>\n",
              "      <th>margin15</th>\n",
              "      <th>margin16</th>\n",
              "      <th>margin17</th>\n",
              "      <th>margin18</th>\n",
              "      <th>margin19</th>\n",
              "      <th>margin20</th>\n",
              "      <th>margin21</th>\n",
              "      <th>margin22</th>\n",
              "      <th>margin23</th>\n",
              "      <th>margin24</th>\n",
              "      <th>margin25</th>\n",
              "      <th>margin26</th>\n",
              "      <th>margin27</th>\n",
              "      <th>margin28</th>\n",
              "      <th>margin29</th>\n",
              "      <th>margin30</th>\n",
              "      <th>margin31</th>\n",
              "      <th>margin32</th>\n",
              "      <th>margin33</th>\n",
              "      <th>margin34</th>\n",
              "      <th>margin35</th>\n",
              "      <th>margin36</th>\n",
              "      <th>margin37</th>\n",
              "      <th>margin38</th>\n",
              "      <th>...</th>\n",
              "      <th>texture25</th>\n",
              "      <th>texture26</th>\n",
              "      <th>texture27</th>\n",
              "      <th>texture28</th>\n",
              "      <th>texture29</th>\n",
              "      <th>texture30</th>\n",
              "      <th>texture31</th>\n",
              "      <th>texture32</th>\n",
              "      <th>texture33</th>\n",
              "      <th>texture34</th>\n",
              "      <th>texture35</th>\n",
              "      <th>texture36</th>\n",
              "      <th>texture37</th>\n",
              "      <th>texture38</th>\n",
              "      <th>texture39</th>\n",
              "      <th>texture40</th>\n",
              "      <th>texture41</th>\n",
              "      <th>texture42</th>\n",
              "      <th>texture43</th>\n",
              "      <th>texture44</th>\n",
              "      <th>texture45</th>\n",
              "      <th>texture46</th>\n",
              "      <th>texture47</th>\n",
              "      <th>texture48</th>\n",
              "      <th>texture49</th>\n",
              "      <th>texture50</th>\n",
              "      <th>texture51</th>\n",
              "      <th>texture52</th>\n",
              "      <th>texture53</th>\n",
              "      <th>texture54</th>\n",
              "      <th>texture55</th>\n",
              "      <th>texture56</th>\n",
              "      <th>texture57</th>\n",
              "      <th>texture58</th>\n",
              "      <th>texture59</th>\n",
              "      <th>texture60</th>\n",
              "      <th>texture61</th>\n",
              "      <th>texture62</th>\n",
              "      <th>texture63</th>\n",
              "      <th>texture64</th>\n",
              "    </tr>\n",
              "  </thead>\n",
              "  <tbody>\n",
              "    <tr>\n",
              "      <th>0</th>\n",
              "      <td>1</td>\n",
              "      <td>Acer_Opalus</td>\n",
              "      <td>0.007812</td>\n",
              "      <td>0.023438</td>\n",
              "      <td>0.023438</td>\n",
              "      <td>0.003906</td>\n",
              "      <td>0.011719</td>\n",
              "      <td>0.009766</td>\n",
              "      <td>0.027344</td>\n",
              "      <td>0.0</td>\n",
              "      <td>0.001953</td>\n",
              "      <td>0.033203</td>\n",
              "      <td>0.013672</td>\n",
              "      <td>0.019531</td>\n",
              "      <td>0.066406</td>\n",
              "      <td>0.000000</td>\n",
              "      <td>0.029297</td>\n",
              "      <td>0.0</td>\n",
              "      <td>0.031250</td>\n",
              "      <td>0.011719</td>\n",
              "      <td>0.000000</td>\n",
              "      <td>0.025391</td>\n",
              "      <td>0.023438</td>\n",
              "      <td>0.001953</td>\n",
              "      <td>0.0</td>\n",
              "      <td>0.015625</td>\n",
              "      <td>0.000000</td>\n",
              "      <td>0.031250</td>\n",
              "      <td>0.000000</td>\n",
              "      <td>0.013672</td>\n",
              "      <td>0.029297</td>\n",
              "      <td>0.015625</td>\n",
              "      <td>0.011719</td>\n",
              "      <td>0.003906</td>\n",
              "      <td>0.025391</td>\n",
              "      <td>0.000000</td>\n",
              "      <td>0.001953</td>\n",
              "      <td>0.011719</td>\n",
              "      <td>0.009766</td>\n",
              "      <td>0.041016</td>\n",
              "      <td>...</td>\n",
              "      <td>0.008789</td>\n",
              "      <td>0.015625</td>\n",
              "      <td>0.044922</td>\n",
              "      <td>0.000000</td>\n",
              "      <td>0.037109</td>\n",
              "      <td>0.012695</td>\n",
              "      <td>0.028320</td>\n",
              "      <td>0.000000</td>\n",
              "      <td>0.019531</td>\n",
              "      <td>0.026367</td>\n",
              "      <td>0.005859</td>\n",
              "      <td>0.0</td>\n",
              "      <td>0.004883</td>\n",
              "      <td>0.016602</td>\n",
              "      <td>0.034180</td>\n",
              "      <td>0.056641</td>\n",
              "      <td>0.006836</td>\n",
              "      <td>0.000977</td>\n",
              "      <td>0.022461</td>\n",
              "      <td>0.037109</td>\n",
              "      <td>0.004883</td>\n",
              "      <td>0.021484</td>\n",
              "      <td>0.035156</td>\n",
              "      <td>0.000977</td>\n",
              "      <td>0.004883</td>\n",
              "      <td>0.015625</td>\n",
              "      <td>0.000000</td>\n",
              "      <td>0.0</td>\n",
              "      <td>0.006836</td>\n",
              "      <td>0.037109</td>\n",
              "      <td>0.007812</td>\n",
              "      <td>0.000000</td>\n",
              "      <td>0.002930</td>\n",
              "      <td>0.002930</td>\n",
              "      <td>0.035156</td>\n",
              "      <td>0.0</td>\n",
              "      <td>0.0</td>\n",
              "      <td>0.004883</td>\n",
              "      <td>0.000000</td>\n",
              "      <td>0.025391</td>\n",
              "    </tr>\n",
              "    <tr>\n",
              "      <th>1</th>\n",
              "      <td>2</td>\n",
              "      <td>Pterocarya_Stenoptera</td>\n",
              "      <td>0.005859</td>\n",
              "      <td>0.000000</td>\n",
              "      <td>0.031250</td>\n",
              "      <td>0.015625</td>\n",
              "      <td>0.025391</td>\n",
              "      <td>0.001953</td>\n",
              "      <td>0.019531</td>\n",
              "      <td>0.0</td>\n",
              "      <td>0.000000</td>\n",
              "      <td>0.007812</td>\n",
              "      <td>0.003906</td>\n",
              "      <td>0.027344</td>\n",
              "      <td>0.023438</td>\n",
              "      <td>0.000000</td>\n",
              "      <td>0.033203</td>\n",
              "      <td>0.0</td>\n",
              "      <td>0.009766</td>\n",
              "      <td>0.009766</td>\n",
              "      <td>0.007812</td>\n",
              "      <td>0.007812</td>\n",
              "      <td>0.019531</td>\n",
              "      <td>0.007812</td>\n",
              "      <td>0.0</td>\n",
              "      <td>0.000000</td>\n",
              "      <td>0.007812</td>\n",
              "      <td>0.027344</td>\n",
              "      <td>0.003906</td>\n",
              "      <td>0.037109</td>\n",
              "      <td>0.007812</td>\n",
              "      <td>0.048828</td>\n",
              "      <td>0.054688</td>\n",
              "      <td>0.027344</td>\n",
              "      <td>0.003906</td>\n",
              "      <td>0.000000</td>\n",
              "      <td>0.000000</td>\n",
              "      <td>0.003906</td>\n",
              "      <td>0.013672</td>\n",
              "      <td>0.033203</td>\n",
              "      <td>...</td>\n",
              "      <td>0.050781</td>\n",
              "      <td>0.001953</td>\n",
              "      <td>0.021484</td>\n",
              "      <td>0.003906</td>\n",
              "      <td>0.027344</td>\n",
              "      <td>0.023438</td>\n",
              "      <td>0.062500</td>\n",
              "      <td>0.000000</td>\n",
              "      <td>0.038086</td>\n",
              "      <td>0.000000</td>\n",
              "      <td>0.019531</td>\n",
              "      <td>0.0</td>\n",
              "      <td>0.001953</td>\n",
              "      <td>0.003906</td>\n",
              "      <td>0.015625</td>\n",
              "      <td>0.004883</td>\n",
              "      <td>0.104490</td>\n",
              "      <td>0.000000</td>\n",
              "      <td>0.061523</td>\n",
              "      <td>0.007812</td>\n",
              "      <td>0.008789</td>\n",
              "      <td>0.013672</td>\n",
              "      <td>0.011719</td>\n",
              "      <td>0.001953</td>\n",
              "      <td>0.035156</td>\n",
              "      <td>0.007812</td>\n",
              "      <td>0.000000</td>\n",
              "      <td>0.0</td>\n",
              "      <td>0.053711</td>\n",
              "      <td>0.036133</td>\n",
              "      <td>0.000977</td>\n",
              "      <td>0.000000</td>\n",
              "      <td>0.000000</td>\n",
              "      <td>0.000977</td>\n",
              "      <td>0.023438</td>\n",
              "      <td>0.0</td>\n",
              "      <td>0.0</td>\n",
              "      <td>0.000977</td>\n",
              "      <td>0.039062</td>\n",
              "      <td>0.022461</td>\n",
              "    </tr>\n",
              "    <tr>\n",
              "      <th>2</th>\n",
              "      <td>3</td>\n",
              "      <td>Quercus_Hartwissiana</td>\n",
              "      <td>0.005859</td>\n",
              "      <td>0.009766</td>\n",
              "      <td>0.019531</td>\n",
              "      <td>0.007812</td>\n",
              "      <td>0.003906</td>\n",
              "      <td>0.005859</td>\n",
              "      <td>0.068359</td>\n",
              "      <td>0.0</td>\n",
              "      <td>0.000000</td>\n",
              "      <td>0.044922</td>\n",
              "      <td>0.007812</td>\n",
              "      <td>0.011719</td>\n",
              "      <td>0.021484</td>\n",
              "      <td>0.001953</td>\n",
              "      <td>0.025391</td>\n",
              "      <td>0.0</td>\n",
              "      <td>0.009766</td>\n",
              "      <td>0.011719</td>\n",
              "      <td>0.007812</td>\n",
              "      <td>0.005859</td>\n",
              "      <td>0.041016</td>\n",
              "      <td>0.001953</td>\n",
              "      <td>0.0</td>\n",
              "      <td>0.015625</td>\n",
              "      <td>0.000000</td>\n",
              "      <td>0.009766</td>\n",
              "      <td>0.001953</td>\n",
              "      <td>0.009766</td>\n",
              "      <td>0.009766</td>\n",
              "      <td>0.015625</td>\n",
              "      <td>0.005859</td>\n",
              "      <td>0.000000</td>\n",
              "      <td>0.017578</td>\n",
              "      <td>0.007812</td>\n",
              "      <td>0.005859</td>\n",
              "      <td>0.009766</td>\n",
              "      <td>0.019531</td>\n",
              "      <td>0.042969</td>\n",
              "      <td>...</td>\n",
              "      <td>0.000977</td>\n",
              "      <td>0.000000</td>\n",
              "      <td>0.000977</td>\n",
              "      <td>0.003906</td>\n",
              "      <td>0.035156</td>\n",
              "      <td>0.015625</td>\n",
              "      <td>0.027344</td>\n",
              "      <td>0.000000</td>\n",
              "      <td>0.000000</td>\n",
              "      <td>0.008789</td>\n",
              "      <td>0.015625</td>\n",
              "      <td>0.0</td>\n",
              "      <td>0.000000</td>\n",
              "      <td>0.011719</td>\n",
              "      <td>0.000977</td>\n",
              "      <td>0.000977</td>\n",
              "      <td>0.000000</td>\n",
              "      <td>0.000000</td>\n",
              "      <td>0.000000</td>\n",
              "      <td>0.005859</td>\n",
              "      <td>0.022461</td>\n",
              "      <td>0.020508</td>\n",
              "      <td>0.021484</td>\n",
              "      <td>0.056641</td>\n",
              "      <td>0.010742</td>\n",
              "      <td>0.008789</td>\n",
              "      <td>0.000000</td>\n",
              "      <td>0.0</td>\n",
              "      <td>0.000977</td>\n",
              "      <td>0.000000</td>\n",
              "      <td>0.154300</td>\n",
              "      <td>0.000000</td>\n",
              "      <td>0.005859</td>\n",
              "      <td>0.000977</td>\n",
              "      <td>0.007812</td>\n",
              "      <td>0.0</td>\n",
              "      <td>0.0</td>\n",
              "      <td>0.000000</td>\n",
              "      <td>0.020508</td>\n",
              "      <td>0.002930</td>\n",
              "    </tr>\n",
              "    <tr>\n",
              "      <th>3</th>\n",
              "      <td>5</td>\n",
              "      <td>Tilia_Tomentosa</td>\n",
              "      <td>0.000000</td>\n",
              "      <td>0.003906</td>\n",
              "      <td>0.023438</td>\n",
              "      <td>0.005859</td>\n",
              "      <td>0.021484</td>\n",
              "      <td>0.019531</td>\n",
              "      <td>0.023438</td>\n",
              "      <td>0.0</td>\n",
              "      <td>0.013672</td>\n",
              "      <td>0.017578</td>\n",
              "      <td>0.001953</td>\n",
              "      <td>0.019531</td>\n",
              "      <td>0.001953</td>\n",
              "      <td>0.003906</td>\n",
              "      <td>0.035156</td>\n",
              "      <td>0.0</td>\n",
              "      <td>0.005859</td>\n",
              "      <td>0.000000</td>\n",
              "      <td>0.001953</td>\n",
              "      <td>0.003906</td>\n",
              "      <td>0.039062</td>\n",
              "      <td>0.009766</td>\n",
              "      <td>0.0</td>\n",
              "      <td>0.009766</td>\n",
              "      <td>0.005859</td>\n",
              "      <td>0.027344</td>\n",
              "      <td>0.001953</td>\n",
              "      <td>0.017578</td>\n",
              "      <td>0.003906</td>\n",
              "      <td>0.021484</td>\n",
              "      <td>0.027344</td>\n",
              "      <td>0.027344</td>\n",
              "      <td>0.000000</td>\n",
              "      <td>0.003906</td>\n",
              "      <td>0.011719</td>\n",
              "      <td>0.003906</td>\n",
              "      <td>0.005859</td>\n",
              "      <td>0.044922</td>\n",
              "      <td>...</td>\n",
              "      <td>0.005859</td>\n",
              "      <td>0.019531</td>\n",
              "      <td>0.124020</td>\n",
              "      <td>0.000000</td>\n",
              "      <td>0.017578</td>\n",
              "      <td>0.000977</td>\n",
              "      <td>0.016602</td>\n",
              "      <td>0.009766</td>\n",
              "      <td>0.006836</td>\n",
              "      <td>0.000977</td>\n",
              "      <td>0.005859</td>\n",
              "      <td>0.0</td>\n",
              "      <td>0.000977</td>\n",
              "      <td>0.001953</td>\n",
              "      <td>0.096680</td>\n",
              "      <td>0.016602</td>\n",
              "      <td>0.126950</td>\n",
              "      <td>0.000000</td>\n",
              "      <td>0.036133</td>\n",
              "      <td>0.055664</td>\n",
              "      <td>0.000000</td>\n",
              "      <td>0.001953</td>\n",
              "      <td>0.027344</td>\n",
              "      <td>0.000000</td>\n",
              "      <td>0.006836</td>\n",
              "      <td>0.017578</td>\n",
              "      <td>0.004883</td>\n",
              "      <td>0.0</td>\n",
              "      <td>0.006836</td>\n",
              "      <td>0.022461</td>\n",
              "      <td>0.000000</td>\n",
              "      <td>0.000977</td>\n",
              "      <td>0.000000</td>\n",
              "      <td>0.000000</td>\n",
              "      <td>0.020508</td>\n",
              "      <td>0.0</td>\n",
              "      <td>0.0</td>\n",
              "      <td>0.017578</td>\n",
              "      <td>0.000000</td>\n",
              "      <td>0.047852</td>\n",
              "    </tr>\n",
              "    <tr>\n",
              "      <th>4</th>\n",
              "      <td>6</td>\n",
              "      <td>Quercus_Variabilis</td>\n",
              "      <td>0.005859</td>\n",
              "      <td>0.003906</td>\n",
              "      <td>0.048828</td>\n",
              "      <td>0.009766</td>\n",
              "      <td>0.013672</td>\n",
              "      <td>0.015625</td>\n",
              "      <td>0.005859</td>\n",
              "      <td>0.0</td>\n",
              "      <td>0.000000</td>\n",
              "      <td>0.005859</td>\n",
              "      <td>0.001953</td>\n",
              "      <td>0.044922</td>\n",
              "      <td>0.041016</td>\n",
              "      <td>0.011719</td>\n",
              "      <td>0.041016</td>\n",
              "      <td>0.0</td>\n",
              "      <td>0.009766</td>\n",
              "      <td>0.015625</td>\n",
              "      <td>0.011719</td>\n",
              "      <td>0.007812</td>\n",
              "      <td>0.021484</td>\n",
              "      <td>0.000000</td>\n",
              "      <td>0.0</td>\n",
              "      <td>0.000000</td>\n",
              "      <td>0.015625</td>\n",
              "      <td>0.009766</td>\n",
              "      <td>0.001953</td>\n",
              "      <td>0.017578</td>\n",
              "      <td>0.041016</td>\n",
              "      <td>0.005859</td>\n",
              "      <td>0.021484</td>\n",
              "      <td>0.013672</td>\n",
              "      <td>0.017578</td>\n",
              "      <td>0.000000</td>\n",
              "      <td>0.005859</td>\n",
              "      <td>0.009766</td>\n",
              "      <td>0.027344</td>\n",
              "      <td>0.083984</td>\n",
              "      <td>...</td>\n",
              "      <td>0.000000</td>\n",
              "      <td>0.000000</td>\n",
              "      <td>0.040039</td>\n",
              "      <td>0.005859</td>\n",
              "      <td>0.005859</td>\n",
              "      <td>0.000000</td>\n",
              "      <td>0.003906</td>\n",
              "      <td>0.000000</td>\n",
              "      <td>0.000000</td>\n",
              "      <td>0.110350</td>\n",
              "      <td>0.000000</td>\n",
              "      <td>0.0</td>\n",
              "      <td>0.000000</td>\n",
              "      <td>0.087891</td>\n",
              "      <td>0.023438</td>\n",
              "      <td>0.007812</td>\n",
              "      <td>0.000000</td>\n",
              "      <td>0.000000</td>\n",
              "      <td>0.008789</td>\n",
              "      <td>0.017578</td>\n",
              "      <td>0.021484</td>\n",
              "      <td>0.061523</td>\n",
              "      <td>0.026367</td>\n",
              "      <td>0.132810</td>\n",
              "      <td>0.000000</td>\n",
              "      <td>0.000000</td>\n",
              "      <td>0.000000</td>\n",
              "      <td>0.0</td>\n",
              "      <td>0.000000</td>\n",
              "      <td>0.001953</td>\n",
              "      <td>0.096680</td>\n",
              "      <td>0.000000</td>\n",
              "      <td>0.021484</td>\n",
              "      <td>0.000000</td>\n",
              "      <td>0.000000</td>\n",
              "      <td>0.0</td>\n",
              "      <td>0.0</td>\n",
              "      <td>0.000000</td>\n",
              "      <td>0.000000</td>\n",
              "      <td>0.031250</td>\n",
              "    </tr>\n",
              "  </tbody>\n",
              "</table>\n",
              "<p>5 rows × 194 columns</p>\n",
              "</div>"
            ],
            "text/plain": [
              "   id                species   margin1  ...  texture62  texture63  texture64\n",
              "0   1            Acer_Opalus  0.007812  ...   0.004883   0.000000   0.025391\n",
              "1   2  Pterocarya_Stenoptera  0.005859  ...   0.000977   0.039062   0.022461\n",
              "2   3   Quercus_Hartwissiana  0.005859  ...   0.000000   0.020508   0.002930\n",
              "3   5        Tilia_Tomentosa  0.000000  ...   0.017578   0.000000   0.047852\n",
              "4   6     Quercus_Variabilis  0.005859  ...   0.000000   0.000000   0.031250\n",
              "\n",
              "[5 rows x 194 columns]"
            ]
          },
          "metadata": {
            "tags": []
          },
          "execution_count": 5
        }
      ]
    },
    {
      "cell_type": "code",
      "metadata": {
        "id": "WXXqwPd630of",
        "colab_type": "code",
        "colab": {
          "base_uri": "https://localhost:8080/",
          "height": 260
        },
        "outputId": "a1bf0663-f3b4-45f3-b37c-015265644d67"
      },
      "source": [
        "# How many images are there of each species?\n",
        "labels_csv[\"species\"].value_counts().plot.bar(figsize=(22,5))"
      ],
      "execution_count": 6,
      "outputs": [
        {
          "output_type": "execute_result",
          "data": {
            "text/plain": [
              "<matplotlib.axes._subplots.AxesSubplot at 0x7f9100490ac8>"
            ]
          },
          "metadata": {
            "tags": []
          },
          "execution_count": 6
        },
        {
          "output_type": "display_data",
          "data": {
            "image/png": "[encoded data removed]",
            "text/plain": [
              "<Figure size 1584x360 with 1 Axes>"
            ]
          },
          "metadata": {
            "tags": [],
            "needs_background": "light"
          }
        }
      ]
    },
    {
      "cell_type": "code",
      "metadata": {
        "id": "hKYII8BP4Mve",
        "colab_type": "code",
        "colab": {
          "base_uri": "https://localhost:8080/",
          "height": 34
        },
        "outputId": "08d8fb77-dd26-4eb7-cef5-53a8533a44eb"
      },
      "source": [
        "# What's the median number of images per class?\n",
        "labels_csv[\"species\"].value_counts().median()"
      ],
      "execution_count": 7,
      "outputs": [
        {
          "output_type": "execute_result",
          "data": {
            "text/plain": [
              "10.0"
            ]
          },
          "metadata": {
            "tags": []
          },
          "execution_count": 7
        }
      ]
    },
    {
      "cell_type": "code",
      "metadata": {
        "id": "T1z-I0By8JLa",
        "colab_type": "code",
        "colab": {
          "base_uri": "https://localhost:8080/",
          "height": 484
        },
        "outputId": "32581357-5123-4486-9210-48108057d86b"
      },
      "source": [
        "# Let's view an image\n",
        "from IPython.display import Image\n",
        "Image(\"drive/My Drive/Leaf Classification/images/1.jpg\")"
      ],
      "execution_count": 8,
      "outputs": [
        {
          "output_type": "execute_result",
          "data": {
            "image/jpeg": "[encoded data removed]",
            "text/plain": [
              "<IPython.core.display.Image object>"
            ]
          },
          "metadata": {
            "tags": []
          },
          "execution_count": 8
        }
      ]
    },
    {
      "cell_type": "markdown",
      "metadata": {
        "id": "6o4vGMz28eap",
        "colab_type": "text"
      },
      "source": [
        "## Getting images and their labels\n",
        "\n",
        "Let's get a full list of our image file pathnames."
      ]
    },
    {
      "cell_type": "code",
      "metadata": {
        "id": "vq1ZddK49FIg",
        "colab_type": "code",
        "colab": {
          "base_uri": "https://localhost:8080/",
          "height": 246
        },
        "outputId": "6900dd68-e1fe-4ee7-dfb8-279fa7603e01"
      },
      "source": [
        "labels_csv.head()"
      ],
      "execution_count": 9,
      "outputs": [
        {
          "output_type": "execute_result",
          "data": {
            "text/html": [
              "<div>\n",
              "<style scoped>\n",
              "    .dataframe tbody tr th:only-of-type {\n",
              "        vertical-align: middle;\n",
              "    }\n",
              "\n",
              "    .dataframe tbody tr th {\n",
              "        vertical-align: top;\n",
              "    }\n",
              "\n",
              "    .dataframe thead th {\n",
              "        text-align: right;\n",
              "    }\n",
              "</style>\n",
              "<table border=\"1\" class=\"dataframe\">\n",
              "  <thead>\n",
              "    <tr style=\"text-align: right;\">\n",
              "      <th></th>\n",
              "      <th>id</th>\n",
              "      <th>species</th>\n",
              "      <th>margin1</th>\n",
              "      <th>margin2</th>\n",
              "      <th>margin3</th>\n",
              "      <th>margin4</th>\n",
              "      <th>margin5</th>\n",
              "      <th>margin6</th>\n",
              "      <th>margin7</th>\n",
              "      <th>margin8</th>\n",
              "      <th>margin9</th>\n",
              "      <th>margin10</th>\n",
              "      <th>margin11</th>\n",
              "      <th>margin12</th>\n",
              "      <th>margin13</th>\n",
              "      <th>margin14</th>\n",
              "      <th>margin15</th>\n",
              "      <th>margin16</th>\n",
              "      <th>margin17</th>\n",
              "      <th>margin18</th>\n",
              "      <th>margin19</th>\n",
              "      <th>margin20</th>\n",
              "      <th>margin21</th>\n",
              "      <th>margin22</th>\n",
              "      <th>margin23</th>\n",
              "      <th>margin24</th>\n",
              "      <th>margin25</th>\n",
              "      <th>margin26</th>\n",
              "      <th>margin27</th>\n",
              "      <th>margin28</th>\n",
              "      <th>margin29</th>\n",
              "      <th>margin30</th>\n",
              "      <th>margin31</th>\n",
              "      <th>margin32</th>\n",
              "      <th>margin33</th>\n",
              "      <th>margin34</th>\n",
              "      <th>margin35</th>\n",
              "      <th>margin36</th>\n",
              "      <th>margin37</th>\n",
              "      <th>margin38</th>\n",
              "      <th>...</th>\n",
              "      <th>texture25</th>\n",
              "      <th>texture26</th>\n",
              "      <th>texture27</th>\n",
              "      <th>texture28</th>\n",
              "      <th>texture29</th>\n",
              "      <th>texture30</th>\n",
              "      <th>texture31</th>\n",
              "      <th>texture32</th>\n",
              "      <th>texture33</th>\n",
              "      <th>texture34</th>\n",
              "      <th>texture35</th>\n",
              "      <th>texture36</th>\n",
              "      <th>texture37</th>\n",
              "      <th>texture38</th>\n",
              "      <th>texture39</th>\n",
              "      <th>texture40</th>\n",
              "      <th>texture41</th>\n",
              "      <th>texture42</th>\n",
              "      <th>texture43</th>\n",
              "      <th>texture44</th>\n",
              "      <th>texture45</th>\n",
              "      <th>texture46</th>\n",
              "      <th>texture47</th>\n",
              "      <th>texture48</th>\n",
              "      <th>texture49</th>\n",
              "      <th>texture50</th>\n",
              "      <th>texture51</th>\n",
              "      <th>texture52</th>\n",
              "      <th>texture53</th>\n",
              "      <th>texture54</th>\n",
              "      <th>texture55</th>\n",
              "      <th>texture56</th>\n",
              "      <th>texture57</th>\n",
              "      <th>texture58</th>\n",
              "      <th>texture59</th>\n",
              "      <th>texture60</th>\n",
              "      <th>texture61</th>\n",
              "      <th>texture62</th>\n",
              "      <th>texture63</th>\n",
              "      <th>texture64</th>\n",
              "    </tr>\n",
              "  </thead>\n",
              "  <tbody>\n",
              "    <tr>\n",
              "      <th>0</th>\n",
              "      <td>1</td>\n",
              "      <td>Acer_Opalus</td>\n",
              "      <td>0.007812</td>\n",
              "      <td>0.023438</td>\n",
              "      <td>0.023438</td>\n",
              "      <td>0.003906</td>\n",
              "      <td>0.011719</td>\n",
              "      <td>0.009766</td>\n",
              "      <td>0.027344</td>\n",
              "      <td>0.0</td>\n",
              "      <td>0.001953</td>\n",
              "      <td>0.033203</td>\n",
              "      <td>0.013672</td>\n",
              "      <td>0.019531</td>\n",
              "      <td>0.066406</td>\n",
              "      <td>0.000000</td>\n",
              "      <td>0.029297</td>\n",
              "      <td>0.0</td>\n",
              "      <td>0.031250</td>\n",
              "      <td>0.011719</td>\n",
              "      <td>0.000000</td>\n",
              "      <td>0.025391</td>\n",
              "      <td>0.023438</td>\n",
              "      <td>0.001953</td>\n",
              "      <td>0.0</td>\n",
              "      <td>0.015625</td>\n",
              "      <td>0.000000</td>\n",
              "      <td>0.031250</td>\n",
              "      <td>0.000000</td>\n",
              "      <td>0.013672</td>\n",
              "      <td>0.029297</td>\n",
              "      <td>0.015625</td>\n",
              "      <td>0.011719</td>\n",
              "      <td>0.003906</td>\n",
              "      <td>0.025391</td>\n",
              "      <td>0.000000</td>\n",
              "      <td>0.001953</td>\n",
              "      <td>0.011719</td>\n",
              "      <td>0.009766</td>\n",
              "      <td>0.041016</td>\n",
              "      <td>...</td>\n",
              "      <td>0.008789</td>\n",
              "      <td>0.015625</td>\n",
              "      <td>0.044922</td>\n",
              "      <td>0.000000</td>\n",
              "      <td>0.037109</td>\n",
              "      <td>0.012695</td>\n",
              "      <td>0.028320</td>\n",
              "      <td>0.000000</td>\n",
              "      <td>0.019531</td>\n",
              "      <td>0.026367</td>\n",
              "      <td>0.005859</td>\n",
              "      <td>0.0</td>\n",
              "      <td>0.004883</td>\n",
              "      <td>0.016602</td>\n",
              "      <td>0.034180</td>\n",
              "      <td>0.056641</td>\n",
              "      <td>0.006836</td>\n",
              "      <td>0.000977</td>\n",
              "      <td>0.022461</td>\n",
              "      <td>0.037109</td>\n",
              "      <td>0.004883</td>\n",
              "      <td>0.021484</td>\n",
              "      <td>0.035156</td>\n",
              "      <td>0.000977</td>\n",
              "      <td>0.004883</td>\n",
              "      <td>0.015625</td>\n",
              "      <td>0.000000</td>\n",
              "      <td>0.0</td>\n",
              "      <td>0.006836</td>\n",
              "      <td>0.037109</td>\n",
              "      <td>0.007812</td>\n",
              "      <td>0.000000</td>\n",
              "      <td>0.002930</td>\n",
              "      <td>0.002930</td>\n",
              "      <td>0.035156</td>\n",
              "      <td>0.0</td>\n",
              "      <td>0.0</td>\n",
              "      <td>0.004883</td>\n",
              "      <td>0.000000</td>\n",
              "      <td>0.025391</td>\n",
              "    </tr>\n",
              "    <tr>\n",
              "      <th>1</th>\n",
              "      <td>2</td>\n",
              "      <td>Pterocarya_Stenoptera</td>\n",
              "      <td>0.005859</td>\n",
              "      <td>0.000000</td>\n",
              "      <td>0.031250</td>\n",
              "      <td>0.015625</td>\n",
              "      <td>0.025391</td>\n",
              "      <td>0.001953</td>\n",
              "      <td>0.019531</td>\n",
              "      <td>0.0</td>\n",
              "      <td>0.000000</td>\n",
              "      <td>0.007812</td>\n",
              "      <td>0.003906</td>\n",
              "      <td>0.027344</td>\n",
              "      <td>0.023438</td>\n",
              "      <td>0.000000</td>\n",
              "      <td>0.033203</td>\n",
              "      <td>0.0</td>\n",
              "      <td>0.009766</td>\n",
              "      <td>0.009766</td>\n",
              "      <td>0.007812</td>\n",
              "      <td>0.007812</td>\n",
              "      <td>0.019531</td>\n",
              "      <td>0.007812</td>\n",
              "      <td>0.0</td>\n",
              "      <td>0.000000</td>\n",
              "      <td>0.007812</td>\n",
              "      <td>0.027344</td>\n",
              "      <td>0.003906</td>\n",
              "      <td>0.037109</td>\n",
              "      <td>0.007812</td>\n",
              "      <td>0.048828</td>\n",
              "      <td>0.054688</td>\n",
              "      <td>0.027344</td>\n",
              "      <td>0.003906</td>\n",
              "      <td>0.000000</td>\n",
              "      <td>0.000000</td>\n",
              "      <td>0.003906</td>\n",
              "      <td>0.013672</td>\n",
              "      <td>0.033203</td>\n",
              "      <td>...</td>\n",
              "      <td>0.050781</td>\n",
              "      <td>0.001953</td>\n",
              "      <td>0.021484</td>\n",
              "      <td>0.003906</td>\n",
              "      <td>0.027344</td>\n",
              "      <td>0.023438</td>\n",
              "      <td>0.062500</td>\n",
              "      <td>0.000000</td>\n",
              "      <td>0.038086</td>\n",
              "      <td>0.000000</td>\n",
              "      <td>0.019531</td>\n",
              "      <td>0.0</td>\n",
              "      <td>0.001953</td>\n",
              "      <td>0.003906</td>\n",
              "      <td>0.015625</td>\n",
              "      <td>0.004883</td>\n",
              "      <td>0.104490</td>\n",
              "      <td>0.000000</td>\n",
              "      <td>0.061523</td>\n",
              "      <td>0.007812</td>\n",
              "      <td>0.008789</td>\n",
              "      <td>0.013672</td>\n",
              "      <td>0.011719</td>\n",
              "      <td>0.001953</td>\n",
              "      <td>0.035156</td>\n",
              "      <td>0.007812</td>\n",
              "      <td>0.000000</td>\n",
              "      <td>0.0</td>\n",
              "      <td>0.053711</td>\n",
              "      <td>0.036133</td>\n",
              "      <td>0.000977</td>\n",
              "      <td>0.000000</td>\n",
              "      <td>0.000000</td>\n",
              "      <td>0.000977</td>\n",
              "      <td>0.023438</td>\n",
              "      <td>0.0</td>\n",
              "      <td>0.0</td>\n",
              "      <td>0.000977</td>\n",
              "      <td>0.039062</td>\n",
              "      <td>0.022461</td>\n",
              "    </tr>\n",
              "    <tr>\n",
              "      <th>2</th>\n",
              "      <td>3</td>\n",
              "      <td>Quercus_Hartwissiana</td>\n",
              "      <td>0.005859</td>\n",
              "      <td>0.009766</td>\n",
              "      <td>0.019531</td>\n",
              "      <td>0.007812</td>\n",
              "      <td>0.003906</td>\n",
              "      <td>0.005859</td>\n",
              "      <td>0.068359</td>\n",
              "      <td>0.0</td>\n",
              "      <td>0.000000</td>\n",
              "      <td>0.044922</td>\n",
              "      <td>0.007812</td>\n",
              "      <td>0.011719</td>\n",
              "      <td>0.021484</td>\n",
              "      <td>0.001953</td>\n",
              "      <td>0.025391</td>\n",
              "      <td>0.0</td>\n",
              "      <td>0.009766</td>\n",
              "      <td>0.011719</td>\n",
              "      <td>0.007812</td>\n",
              "      <td>0.005859</td>\n",
              "      <td>0.041016</td>\n",
              "      <td>0.001953</td>\n",
              "      <td>0.0</td>\n",
              "      <td>0.015625</td>\n",
              "      <td>0.000000</td>\n",
              "      <td>0.009766</td>\n",
              "      <td>0.001953</td>\n",
              "      <td>0.009766</td>\n",
              "      <td>0.009766</td>\n",
              "      <td>0.015625</td>\n",
              "      <td>0.005859</td>\n",
              "      <td>0.000000</td>\n",
              "      <td>0.017578</td>\n",
              "      <td>0.007812</td>\n",
              "      <td>0.005859</td>\n",
              "      <td>0.009766</td>\n",
              "      <td>0.019531</td>\n",
              "      <td>0.042969</td>\n",
              "      <td>...</td>\n",
              "      <td>0.000977</td>\n",
              "      <td>0.000000</td>\n",
              "      <td>0.000977</td>\n",
              "      <td>0.003906</td>\n",
              "      <td>0.035156</td>\n",
              "      <td>0.015625</td>\n",
              "      <td>0.027344</td>\n",
              "      <td>0.000000</td>\n",
              "      <td>0.000000</td>\n",
              "      <td>0.008789</td>\n",
              "      <td>0.015625</td>\n",
              "      <td>0.0</td>\n",
              "      <td>0.000000</td>\n",
              "      <td>0.011719</td>\n",
              "      <td>0.000977</td>\n",
              "      <td>0.000977</td>\n",
              "      <td>0.000000</td>\n",
              "      <td>0.000000</td>\n",
              "      <td>0.000000</td>\n",
              "      <td>0.005859</td>\n",
              "      <td>0.022461</td>\n",
              "      <td>0.020508</td>\n",
              "      <td>0.021484</td>\n",
              "      <td>0.056641</td>\n",
              "      <td>0.010742</td>\n",
              "      <td>0.008789</td>\n",
              "      <td>0.000000</td>\n",
              "      <td>0.0</td>\n",
              "      <td>0.000977</td>\n",
              "      <td>0.000000</td>\n",
              "      <td>0.154300</td>\n",
              "      <td>0.000000</td>\n",
              "      <td>0.005859</td>\n",
              "      <td>0.000977</td>\n",
              "      <td>0.007812</td>\n",
              "      <td>0.0</td>\n",
              "      <td>0.0</td>\n",
              "      <td>0.000000</td>\n",
              "      <td>0.020508</td>\n",
              "      <td>0.002930</td>\n",
              "    </tr>\n",
              "    <tr>\n",
              "      <th>3</th>\n",
              "      <td>5</td>\n",
              "      <td>Tilia_Tomentosa</td>\n",
              "      <td>0.000000</td>\n",
              "      <td>0.003906</td>\n",
              "      <td>0.023438</td>\n",
              "      <td>0.005859</td>\n",
              "      <td>0.021484</td>\n",
              "      <td>0.019531</td>\n",
              "      <td>0.023438</td>\n",
              "      <td>0.0</td>\n",
              "      <td>0.013672</td>\n",
              "      <td>0.017578</td>\n",
              "      <td>0.001953</td>\n",
              "      <td>0.019531</td>\n",
              "      <td>0.001953</td>\n",
              "      <td>0.003906</td>\n",
              "      <td>0.035156</td>\n",
              "      <td>0.0</td>\n",
              "      <td>0.005859</td>\n",
              "      <td>0.000000</td>\n",
              "      <td>0.001953</td>\n",
              "      <td>0.003906</td>\n",
              "      <td>0.039062</td>\n",
              "      <td>0.009766</td>\n",
              "      <td>0.0</td>\n",
              "      <td>0.009766</td>\n",
              "      <td>0.005859</td>\n",
              "      <td>0.027344</td>\n",
              "      <td>0.001953</td>\n",
              "      <td>0.017578</td>\n",
              "      <td>0.003906</td>\n",
              "      <td>0.021484</td>\n",
              "      <td>0.027344</td>\n",
              "      <td>0.027344</td>\n",
              "      <td>0.000000</td>\n",
              "      <td>0.003906</td>\n",
              "      <td>0.011719</td>\n",
              "      <td>0.003906</td>\n",
              "      <td>0.005859</td>\n",
              "      <td>0.044922</td>\n",
              "      <td>...</td>\n",
              "      <td>0.005859</td>\n",
              "      <td>0.019531</td>\n",
              "      <td>0.124020</td>\n",
              "      <td>0.000000</td>\n",
              "      <td>0.017578</td>\n",
              "      <td>0.000977</td>\n",
              "      <td>0.016602</td>\n",
              "      <td>0.009766</td>\n",
              "      <td>0.006836</td>\n",
              "      <td>0.000977</td>\n",
              "      <td>0.005859</td>\n",
              "      <td>0.0</td>\n",
              "      <td>0.000977</td>\n",
              "      <td>0.001953</td>\n",
              "      <td>0.096680</td>\n",
              "      <td>0.016602</td>\n",
              "      <td>0.126950</td>\n",
              "      <td>0.000000</td>\n",
              "      <td>0.036133</td>\n",
              "      <td>0.055664</td>\n",
              "      <td>0.000000</td>\n",
              "      <td>0.001953</td>\n",
              "      <td>0.027344</td>\n",
              "      <td>0.000000</td>\n",
              "      <td>0.006836</td>\n",
              "      <td>0.017578</td>\n",
              "      <td>0.004883</td>\n",
              "      <td>0.0</td>\n",
              "      <td>0.006836</td>\n",
              "      <td>0.022461</td>\n",
              "      <td>0.000000</td>\n",
              "      <td>0.000977</td>\n",
              "      <td>0.000000</td>\n",
              "      <td>0.000000</td>\n",
              "      <td>0.020508</td>\n",
              "      <td>0.0</td>\n",
              "      <td>0.0</td>\n",
              "      <td>0.017578</td>\n",
              "      <td>0.000000</td>\n",
              "      <td>0.047852</td>\n",
              "    </tr>\n",
              "    <tr>\n",
              "      <th>4</th>\n",
              "      <td>6</td>\n",
              "      <td>Quercus_Variabilis</td>\n",
              "      <td>0.005859</td>\n",
              "      <td>0.003906</td>\n",
              "      <td>0.048828</td>\n",
              "      <td>0.009766</td>\n",
              "      <td>0.013672</td>\n",
              "      <td>0.015625</td>\n",
              "      <td>0.005859</td>\n",
              "      <td>0.0</td>\n",
              "      <td>0.000000</td>\n",
              "      <td>0.005859</td>\n",
              "      <td>0.001953</td>\n",
              "      <td>0.044922</td>\n",
              "      <td>0.041016</td>\n",
              "      <td>0.011719</td>\n",
              "      <td>0.041016</td>\n",
              "      <td>0.0</td>\n",
              "      <td>0.009766</td>\n",
              "      <td>0.015625</td>\n",
              "      <td>0.011719</td>\n",
              "      <td>0.007812</td>\n",
              "      <td>0.021484</td>\n",
              "      <td>0.000000</td>\n",
              "      <td>0.0</td>\n",
              "      <td>0.000000</td>\n",
              "      <td>0.015625</td>\n",
              "      <td>0.009766</td>\n",
              "      <td>0.001953</td>\n",
              "      <td>0.017578</td>\n",
              "      <td>0.041016</td>\n",
              "      <td>0.005859</td>\n",
              "      <td>0.021484</td>\n",
              "      <td>0.013672</td>\n",
              "      <td>0.017578</td>\n",
              "      <td>0.000000</td>\n",
              "      <td>0.005859</td>\n",
              "      <td>0.009766</td>\n",
              "      <td>0.027344</td>\n",
              "      <td>0.083984</td>\n",
              "      <td>...</td>\n",
              "      <td>0.000000</td>\n",
              "      <td>0.000000</td>\n",
              "      <td>0.040039</td>\n",
              "      <td>0.005859</td>\n",
              "      <td>0.005859</td>\n",
              "      <td>0.000000</td>\n",
              "      <td>0.003906</td>\n",
              "      <td>0.000000</td>\n",
              "      <td>0.000000</td>\n",
              "      <td>0.110350</td>\n",
              "      <td>0.000000</td>\n",
              "      <td>0.0</td>\n",
              "      <td>0.000000</td>\n",
              "      <td>0.087891</td>\n",
              "      <td>0.023438</td>\n",
              "      <td>0.007812</td>\n",
              "      <td>0.000000</td>\n",
              "      <td>0.000000</td>\n",
              "      <td>0.008789</td>\n",
              "      <td>0.017578</td>\n",
              "      <td>0.021484</td>\n",
              "      <td>0.061523</td>\n",
              "      <td>0.026367</td>\n",
              "      <td>0.132810</td>\n",
              "      <td>0.000000</td>\n",
              "      <td>0.000000</td>\n",
              "      <td>0.000000</td>\n",
              "      <td>0.0</td>\n",
              "      <td>0.000000</td>\n",
              "      <td>0.001953</td>\n",
              "      <td>0.096680</td>\n",
              "      <td>0.000000</td>\n",
              "      <td>0.021484</td>\n",
              "      <td>0.000000</td>\n",
              "      <td>0.000000</td>\n",
              "      <td>0.0</td>\n",
              "      <td>0.0</td>\n",
              "      <td>0.000000</td>\n",
              "      <td>0.000000</td>\n",
              "      <td>0.031250</td>\n",
              "    </tr>\n",
              "  </tbody>\n",
              "</table>\n",
              "<p>5 rows × 194 columns</p>\n",
              "</div>"
            ],
            "text/plain": [
              "   id                species   margin1  ...  texture62  texture63  texture64\n",
              "0   1            Acer_Opalus  0.007812  ...   0.004883   0.000000   0.025391\n",
              "1   2  Pterocarya_Stenoptera  0.005859  ...   0.000977   0.039062   0.022461\n",
              "2   3   Quercus_Hartwissiana  0.005859  ...   0.000000   0.020508   0.002930\n",
              "3   5        Tilia_Tomentosa  0.000000  ...   0.017578   0.000000   0.047852\n",
              "4   6     Quercus_Variabilis  0.005859  ...   0.000000   0.000000   0.031250\n",
              "\n",
              "[5 rows x 194 columns]"
            ]
          },
          "metadata": {
            "tags": []
          },
          "execution_count": 9
        }
      ]
    },
    {
      "cell_type": "code",
      "metadata": {
        "id": "a-nHHoU9-dvy",
        "colab_type": "code",
        "colab": {}
      },
      "source": [
        "labels_csv[\"id\"]= labels_csv[\"id\"].astype(str) "
      ],
      "execution_count": 10,
      "outputs": []
    },
    {
      "cell_type": "code",
      "metadata": {
        "id": "laq2ykd09H0p",
        "colab_type": "code",
        "colab": {
          "base_uri": "https://localhost:8080/",
          "height": 194
        },
        "outputId": "e195dfd7-4a50-4247-cd75-5893d7c82e35"
      },
      "source": [
        "# Create pathnames from image ID's\n",
        "filenames = [\"drive/My Drive/Leaf Classification/images/\" + fname + \".jpg\" for fname in labels_csv['id']]\n",
        "\n",
        "# Check the first 10\n",
        "filenames[:10]"
      ],
      "execution_count": 11,
      "outputs": [
        {
          "output_type": "execute_result",
          "data": {
            "text/plain": [
              "['drive/My Drive/Leaf Classification/images/1.jpg',\n",
              " 'drive/My Drive/Leaf Classification/images/2.jpg',\n",
              " 'drive/My Drive/Leaf Classification/images/3.jpg',\n",
              " 'drive/My Drive/Leaf Classification/images/5.jpg',\n",
              " 'drive/My Drive/Leaf Classification/images/6.jpg',\n",
              " 'drive/My Drive/Leaf Classification/images/8.jpg',\n",
              " 'drive/My Drive/Leaf Classification/images/10.jpg',\n",
              " 'drive/My Drive/Leaf Classification/images/11.jpg',\n",
              " 'drive/My Drive/Leaf Classification/images/14.jpg',\n",
              " 'drive/My Drive/Leaf Classification/images/15.jpg']"
            ]
          },
          "metadata": {
            "tags": []
          },
          "execution_count": 11
        }
      ]
    },
    {
      "cell_type": "code",
      "metadata": {
        "id": "VDOJfVxJ9hoY",
        "colab_type": "code",
        "colab": {
          "base_uri": "https://localhost:8080/",
          "height": 34
        },
        "outputId": "7fc2e466-bbab-4c47-e37d-2a06efe036a6"
      },
      "source": [
        "len(filenames)"
      ],
      "execution_count": 12,
      "outputs": [
        {
          "output_type": "execute_result",
          "data": {
            "text/plain": [
              "990"
            ]
          },
          "metadata": {
            "tags": []
          },
          "execution_count": 12
        }
      ]
    },
    {
      "cell_type": "code",
      "metadata": {
        "id": "pV7WX3a6_iba",
        "colab_type": "code",
        "colab": {
          "base_uri": "https://localhost:8080/",
          "height": 461
        },
        "outputId": "ec256381-3791-49c4-85e6-a0d49fc16b94"
      },
      "source": [
        "Image(filenames[100])"
      ],
      "execution_count": 13,
      "outputs": [
        {
          "output_type": "execute_result",
          "data": {
            "image/jpeg": "[encoded data removed]",
            "text/plain": [
              "<IPython.core.display.Image object>"
            ]
          },
          "metadata": {
            "tags": []
          },
          "execution_count": 13
        }
      ]
    },
    {
      "cell_type": "code",
      "metadata": {
        "id": "WP3AkveOAA2Z",
        "colab_type": "code",
        "colab": {
          "base_uri": "https://localhost:8080/",
          "height": 35
        },
        "outputId": "154fdb97-d011-449c-91e5-72c86f67030f"
      },
      "source": [
        "labels_csv[\"species\"][100]"
      ],
      "execution_count": 14,
      "outputs": [
        {
          "output_type": "execute_result",
          "data": {
            "application/vnd.google.colaboratory.intrinsic+json": {
              "type": "string"
            },
            "text/plain": [
              "'Ginkgo_Biloba'"
            ]
          },
          "metadata": {
            "tags": []
          },
          "execution_count": 14
        }
      ]
    },
    {
      "cell_type": "markdown",
      "metadata": {
        "id": "d2qS8WJkAGD5",
        "colab_type": "text"
      },
      "source": [
        "Since we've now got our training image filepaths in a list, let's prepare our labels."
      ]
    },
    {
      "cell_type": "code",
      "metadata": {
        "id": "2b379HCm9tMr",
        "colab_type": "code",
        "colab": {
          "base_uri": "https://localhost:8080/",
          "height": 34
        },
        "outputId": "4f0527fe-dc7a-4155-882a-72925026177f"
      },
      "source": [
        "import numpy as np\n",
        "labels = labels_csv[\"species\"].to_numpy()\n",
        "len(labels)"
      ],
      "execution_count": 15,
      "outputs": [
        {
          "output_type": "execute_result",
          "data": {
            "text/plain": [
              "990"
            ]
          },
          "metadata": {
            "tags": []
          },
          "execution_count": 15
        }
      ]
    },
    {
      "cell_type": "code",
      "metadata": {
        "id": "DHn_Y6x_98yL",
        "colab_type": "code",
        "colab": {
          "base_uri": "https://localhost:8080/",
          "height": 35
        },
        "outputId": "d35b10a4-90c7-47e7-fcad-981a9799119f"
      },
      "source": [
        "# Find the unique label values\n",
        "unique_species = np.unique(labels)\n",
        "unique_species[3]"
      ],
      "execution_count": 16,
      "outputs": [
        {
          "output_type": "execute_result",
          "data": {
            "application/vnd.google.colaboratory.intrinsic+json": {
              "type": "string"
            },
            "text/plain": [
              "'Acer_Opalus'"
            ]
          },
          "metadata": {
            "tags": []
          },
          "execution_count": 16
        }
      ]
    },
    {
      "cell_type": "code",
      "metadata": {
        "id": "1-0CPD60-kjL",
        "colab_type": "code",
        "colab": {
          "base_uri": "https://localhost:8080/",
          "height": 230
        },
        "outputId": "196bd56f-4438-4f87-fb9c-64ad97ebc009"
      },
      "source": [
        "# Turn a single label into an array of booleans\n",
        "print(labels[0])\n",
        "labels[0] == unique_species"
      ],
      "execution_count": 17,
      "outputs": [
        {
          "output_type": "stream",
          "text": [
            "Acer_Opalus\n"
          ],
          "name": "stdout"
        },
        {
          "output_type": "execute_result",
          "data": {
            "text/plain": [
              "array([False, False, False,  True, False, False, False, False, False,\n",
              "       False, False, False, False, False, False, False, False, False,\n",
              "       False, False, False, False, False, False, False, False, False,\n",
              "       False, False, False, False, False, False, False, False, False,\n",
              "       False, False, False, False, False, False, False, False, False,\n",
              "       False, False, False, False, False, False, False, False, False,\n",
              "       False, False, False, False, False, False, False, False, False,\n",
              "       False, False, False, False, False, False, False, False, False,\n",
              "       False, False, False, False, False, False, False, False, False,\n",
              "       False, False, False, False, False, False, False, False, False,\n",
              "       False, False, False, False, False, False, False, False, False])"
            ]
          },
          "metadata": {
            "tags": []
          },
          "execution_count": 17
        }
      ]
    },
    {
      "cell_type": "code",
      "metadata": {
        "id": "iRDt0QlP-4eb",
        "colab_type": "code",
        "colab": {
          "base_uri": "https://localhost:8080/",
          "height": 407
        },
        "outputId": "56082d0b-2069-4e50-dead-4996334818af"
      },
      "source": [
        "# Turn every label into a boolean array\n",
        "boolean_labels = [label == unique_species for label in labels]\n",
        "boolean_labels[:2]"
      ],
      "execution_count": 18,
      "outputs": [
        {
          "output_type": "execute_result",
          "data": {
            "text/plain": [
              "[array([False, False, False,  True, False, False, False, False, False,\n",
              "        False, False, False, False, False, False, False, False, False,\n",
              "        False, False, False, False, False, False, False, False, False,\n",
              "        False, False, False, False, False, False, False, False, False,\n",
              "        False, False, False, False, False, False, False, False, False,\n",
              "        False, False, False, False, False, False, False, False, False,\n",
              "        False, False, False, False, False, False, False, False, False,\n",
              "        False, False, False, False, False, False, False, False, False,\n",
              "        False, False, False, False, False, False, False, False, False,\n",
              "        False, False, False, False, False, False, False, False, False,\n",
              "        False, False, False, False, False, False, False, False, False]),\n",
              " array([False, False, False, False, False, False, False, False, False,\n",
              "        False, False, False, False, False, False, False, False, False,\n",
              "        False, False, False, False, False, False, False, False, False,\n",
              "        False, False, False, False, False, False, False, False, False,\n",
              "        False, False, False, False, False, False, False, False, False,\n",
              "        False, False, False, False,  True, False, False, False, False,\n",
              "        False, False, False, False, False, False, False, False, False,\n",
              "        False, False, False, False, False, False, False, False, False,\n",
              "        False, False, False, False, False, False, False, False, False,\n",
              "        False, False, False, False, False, False, False, False, False,\n",
              "        False, False, False, False, False, False, False, False, False])]"
            ]
          },
          "metadata": {
            "tags": []
          },
          "execution_count": 18
        }
      ]
    },
    {
      "cell_type": "code",
      "metadata": {
        "id": "c3MlYo7h_R-M",
        "colab_type": "code",
        "colab": {
          "base_uri": "https://localhost:8080/",
          "height": 34
        },
        "outputId": "3cf3e282-2103-46bf-e784-2093aa8fce84"
      },
      "source": [
        "len(boolean_labels)"
      ],
      "execution_count": 19,
      "outputs": [
        {
          "output_type": "execute_result",
          "data": {
            "text/plain": [
              "990"
            ]
          },
          "metadata": {
            "tags": []
          },
          "execution_count": 19
        }
      ]
    },
    {
      "cell_type": "code",
      "metadata": {
        "id": "M2L6F2f5_lzb",
        "colab_type": "code",
        "colab": {
          "base_uri": "https://localhost:8080/",
          "height": 123
        },
        "outputId": "3ba13e2f-7f82-4c0b-fb16-68403447d783"
      },
      "source": [
        "# Example: Turning boolean array into integers\n",
        "print(labels[0]) # Original label\n",
        "print(np.where(unique_species == labels[0])) # Index where label occurs\n",
        "print(boolean_labels[0].argmax()) # Index where label occurs in boolean array\n",
        "print(boolean_labels[0].astype(int)) # There will be 1 where the sample label occurs"
      ],
      "execution_count": 28,
      "outputs": [
        {
          "output_type": "stream",
          "text": [
            "Acer_Opalus\n",
            "(array([3]),)\n",
            "3\n",
            "[0 0 0 1 0 0 0 0 0 0 0 0 0 0 0 0 0 0 0 0 0 0 0 0 0 0 0 0 0 0 0 0 0 0 0 0 0\n",
            " 0 0 0 0 0 0 0 0 0 0 0 0 0 0 0 0 0 0 0 0 0 0 0 0 0 0 0 0 0 0 0 0 0 0 0 0 0\n",
            " 0 0 0 0 0 0 0 0 0 0 0 0 0 0 0 0 0 0 0 0 0 0 0 0 0]\n"
          ],
          "name": "stdout"
        }
      ]
    },
    {
      "cell_type": "code",
      "metadata": {
        "id": "bGRNuSCX_X17",
        "colab_type": "code",
        "colab": {
          "base_uri": "https://localhost:8080/",
          "height": 87
        },
        "outputId": "2bc58b8e-2955-4886-90e4-62eaa0b8591b"
      },
      "source": [
        "print(labels[2])\n",
        "print(boolean_labels[2].astype(int))"
      ],
      "execution_count": 29,
      "outputs": [
        {
          "output_type": "stream",
          "text": [
            "Quercus_Hartwissiana\n",
            "[0 0 0 0 0 0 0 0 0 0 0 0 0 0 0 0 0 0 0 0 0 0 0 0 0 0 0 0 0 0 0 0 0 0 0 0 0\n",
            " 0 0 0 0 0 0 0 0 0 0 0 0 0 0 0 0 0 0 0 0 0 0 0 0 0 0 0 0 1 0 0 0 0 0 0 0 0\n",
            " 0 0 0 0 0 0 0 0 0 0 0 0 0 0 0 0 0 0 0 0 0 0 0 0 0]\n"
          ],
          "name": "stdout"
        }
      ]
    },
    {
      "cell_type": "markdown",
      "metadata": {
        "id": "9gNi8iCt_p4t",
        "colab_type": "text"
      },
      "source": [
        "### Creating our own validation set"
      ]
    },
    {
      "cell_type": "markdown",
      "metadata": {
        "id": "t0XZ3wBfAq2O",
        "colab_type": "text"
      },
      "source": [
        "Since the dataset from Kaggle doesn't come with a validation set, we are going to create our own."
      ]
    },
    {
      "cell_type": "code",
      "metadata": {
        "id": "es5YYfjJAyf9",
        "colab_type": "code",
        "colab": {}
      },
      "source": [
        "# Setup X and y variables\n",
        "X = filenames\n",
        "y = boolean_labels"
      ],
      "execution_count": 31,
      "outputs": []
    },
    {
      "cell_type": "code",
      "metadata": {
        "id": "H1KCsbSvBBH-",
        "colab_type": "code",
        "colab": {}
      },
      "source": [
        "# Set no. of images to use for experimenting\n",
        "NUM_IMAGES = 991 #@param {type:\"slider\", min:500, max:991, step:1}"
      ],
      "execution_count": 35,
      "outputs": []
    },
    {
      "cell_type": "code",
      "metadata": {
        "id": "X_lFltI2CSLS",
        "colab_type": "code",
        "colab": {
          "base_uri": "https://localhost:8080/",
          "height": 34
        },
        "outputId": "6656b65b-bf55-4cba-9529-e9a75dcdd878"
      },
      "source": [
        "# Let's split our data into train and validation sets\n",
        "from sklearn.model_selection import train_test_split\n",
        "\n",
        "# Split them into training and validation of total size NUM_IMAGES\n",
        "X_train, X_val, y_train, y_val = train_test_split(X[:NUM_IMAGES],\n",
        "                                                  y[:NUM_IMAGES],\n",
        "                                                  test_size=0.2,\n",
        "                                                  random_state=42)\n",
        "\n",
        "len(X_train), len(y_train), len(X_val), len(y_val)"
      ],
      "execution_count": 36,
      "outputs": [
        {
          "output_type": "execute_result",
          "data": {
            "text/plain": [
              "(720, 720, 180, 180)"
            ]
          },
          "metadata": {
            "tags": []
          },
          "execution_count": 36
        }
      ]
    },
    {
      "cell_type": "code",
      "metadata": {
        "id": "RgJh9sPBDBFU",
        "colab_type": "code",
        "colab": {
          "base_uri": "https://localhost:8080/",
          "height": 496
        },
        "outputId": "c06d35dc-757a-4206-a8a5-717cd99a35c8"
      },
      "source": [
        "# Let's have a geez at the training data\n",
        "X_train[:5], y_train[:2]"
      ],
      "execution_count": 37,
      "outputs": [
        {
          "output_type": "execute_result",
          "data": {
            "text/plain": [
              "(['drive/My Drive/Leaf Classification/images/17.jpg',\n",
              "  'drive/My Drive/Leaf Classification/images/550.jpg',\n",
              "  'drive/My Drive/Leaf Classification/images/411.jpg',\n",
              "  'drive/My Drive/Leaf Classification/images/1083.jpg',\n",
              "  'drive/My Drive/Leaf Classification/images/501.jpg'],\n",
              " [array([False, False, False, False, False, False, False, False, False,\n",
              "         False, False, False, False, False, False, False, False, False,\n",
              "         False, False, False, False, False, False, False, False, False,\n",
              "         False, False, False, False, False, False, False, False, False,\n",
              "         False, False, False, False, False, False, False, False, False,\n",
              "         False, False, False, False, False, False, False, False, False,\n",
              "         False, False, False, False, False, False, False, False, False,\n",
              "         False, False, False, False, False, False, False, False, False,\n",
              "         False, False, False, False, False, False, False, False, False,\n",
              "         False, False, False, False, False, False, False, False, False,\n",
              "         False, False, False, False, False, False, False, False,  True]),\n",
              "  array([False, False, False, False, False, False, False, False, False,\n",
              "         False, False, False, False, False, False, False, False, False,\n",
              "         False, False, False, False, False, False, False, False, False,\n",
              "         False, False, False, False, False, False, False, False, False,\n",
              "         False, False, False, False, False,  True, False, False, False,\n",
              "         False, False, False, False, False, False, False, False, False,\n",
              "         False, False, False, False, False, False, False, False, False,\n",
              "         False, False, False, False, False, False, False, False, False,\n",
              "         False, False, False, False, False, False, False, False, False,\n",
              "         False, False, False, False, False, False, False, False, False,\n",
              "         False, False, False, False, False, False, False, False, False])])"
            ]
          },
          "metadata": {
            "tags": []
          },
          "execution_count": 37
        }
      ]
    },
    {
      "cell_type": "markdown",
      "metadata": {
        "id": "BdFmrye1DqRk",
        "colab_type": "text"
      },
      "source": [
        "### Preprocessing Images (turning images into Tensors)\n",
        "\n",
        "To preprocess our images into Tensors we're going to write a function which does a few things:\n",
        "1. Take an image filepath as input\n",
        "2. Use TensorFlow to read the file and save it to a variable. `image`\n",
        "3. Turn our `image` (a jpg) into Tensors\n",
        "4. Resize the `image` to be a shape of (224, 224)\n",
        "5. Return the modified `image`\n",
        "\n",
        "Before we do, let's see what importing an image looks like\n"
      ]
    },
    {
      "cell_type": "code",
      "metadata": {
        "id": "IuosRJCtEmKw",
        "colab_type": "code",
        "colab": {
          "base_uri": "https://localhost:8080/",
          "height": 34
        },
        "outputId": "d601496f-fa68-410a-f6ac-5aecaaaff2b2"
      },
      "source": [
        "# Convert image to Numpy array\n",
        "from matplotlib.pyplot import imread\n",
        "image = imread(filenames[42])\n",
        "image.shape"
      ],
      "execution_count": 38,
      "outputs": [
        {
          "output_type": "execute_result",
          "data": {
            "text/plain": [
              "(341, 854)"
            ]
          },
          "metadata": {
            "tags": []
          },
          "execution_count": 38
        }
      ]
    },
    {
      "cell_type": "code",
      "metadata": {
        "id": "7EO-e5CME5fn",
        "colab_type": "code",
        "colab": {
          "base_uri": "https://localhost:8080/",
          "height": 270
        },
        "outputId": "913924a7-d716-4062-f62a-e3ed668f4c4a"
      },
      "source": [
        "Image(filenames[42])"
      ],
      "execution_count": 41,
      "outputs": [
        {
          "output_type": "execute_result",
          "data": {
            "image/jpeg": "[encoded data removed]",
            "text/plain": [
              "<IPython.core.display.Image object>"
            ]
          },
          "metadata": {
            "tags": []
          },
          "execution_count": 41
        }
      ]
    },
    {
      "cell_type": "code",
      "metadata": {
        "id": "yodSt748E-9H",
        "colab_type": "code",
        "colab": {
          "base_uri": "https://localhost:8080/",
          "height": 34
        },
        "outputId": "79d0a793-9bf3-4bde-9f9b-2ee4f784d734"
      },
      "source": [
        "image.max(), image.min()"
      ],
      "execution_count": 42,
      "outputs": [
        {
          "output_type": "execute_result",
          "data": {
            "text/plain": [
              "(255, 0)"
            ]
          },
          "metadata": {
            "tags": []
          },
          "execution_count": 42
        }
      ]
    },
    {
      "cell_type": "code",
      "metadata": {
        "id": "qu-9VgZMFPLH",
        "colab_type": "code",
        "colab": {
          "base_uri": "https://localhost:8080/",
          "height": 52
        },
        "outputId": "31294649-822f-4511-db56-f4015fc8d6f7"
      },
      "source": [
        "image[:2]"
      ],
      "execution_count": 43,
      "outputs": [
        {
          "output_type": "execute_result",
          "data": {
            "text/plain": [
              "array([[0, 0, 0, ..., 0, 0, 0],\n",
              "       [0, 0, 0, ..., 0, 0, 0]], dtype=uint8)"
            ]
          },
          "metadata": {
            "tags": []
          },
          "execution_count": 43
        }
      ]
    },
    {
      "cell_type": "code",
      "metadata": {
        "id": "5OoNRRXBFSk3",
        "colab_type": "code",
        "colab": {
          "base_uri": "https://localhost:8080/",
          "height": 70
        },
        "outputId": "b537eead-7082-4f76-97f0-891398f859ed"
      },
      "source": [
        "# turn image into a tensor\n",
        "tf.constant(image)[:2]"
      ],
      "execution_count": 44,
      "outputs": [
        {
          "output_type": "execute_result",
          "data": {
            "text/plain": [
              "<tf.Tensor: shape=(2, 854), dtype=uint8, numpy=\n",
              "array([[0, 0, 0, ..., 0, 0, 0],\n",
              "       [0, 0, 0, ..., 0, 0, 0]], dtype=uint8)>"
            ]
          },
          "metadata": {
            "tags": []
          },
          "execution_count": 44
        }
      ]
    },
    {
      "cell_type": "markdown",
      "metadata": {
        "id": "5cn6kHhIFbhn",
        "colab_type": "text"
      },
      "source": [
        "Now we've have seen what an image looks like as a Tensor, let's make function to preprocess them.\n",
        "1. Take an image filepath as input\n",
        "2. Use TensorFlow to read the file and save it to a variable. `image`\n",
        "3. Turn our `image` (a jpg) into Tensors\n",
        "4. Normalize our `image` (convert color channel values from 0-255 to 0-1).\n",
        "5. Resize the `images` to be a shape of (224, 224)\n",
        "6. Return the modified `image`"
      ]
    },
    {
      "cell_type": "code",
      "metadata": {
        "id": "_LHn9COsG8UN",
        "colab_type": "code",
        "colab": {}
      },
      "source": [
        "# Define image size\n",
        "IMG_SIZE = 224\n",
        "\n",
        "# Create a function for preprocessing images\n",
        "def process_image(image_path, img_size=IMG_SIZE):\n",
        "  \"\"\"\n",
        "  Takes an image file path and turns the image into a Tensor.\n",
        "  \"\"\"\n",
        "  # Read in an image file\n",
        "  image = tf.io.read_file(image_path)\n",
        "  # Turn the jpeg image into numerical Tensor with 3 colour channels (Red, Green, Blue)\n",
        "  image = tf.image.decode_jpeg(image, channels=3)\n",
        "  # Convert the colour channel values from 0-255 to 0-1 values\n",
        "  image = tf.image.convert_image_dtype(image, tf.float32)\n",
        "  # Resize the image to our desired value (224, 224)\n",
        "  image = tf.image.resize(image, size=[IMG_SIZE, IMG_SIZE])\n",
        "\n",
        "  return image"
      ],
      "execution_count": 46,
      "outputs": []
    },
    {
      "cell_type": "code",
      "metadata": {
        "id": "k060sLktIPx2",
        "colab_type": "code",
        "colab": {}
      },
      "source": [
        ""
      ],
      "execution_count": null,
      "outputs": []
    }
  ]
}